{
 "cells": [
  {
   "cell_type": "code",
   "execution_count": 1,
   "metadata": {},
   "outputs": [],
   "source": [
    "#Reading the ratings dataset\n",
    "\n",
    "import numpy as np\n",
    "import pandas as pd\n",
    "\n",
    "df=pd.read_excel('Ratings1M.xlsx', index_col=None, header = None)\n"
   ]
  },
  {
   "cell_type": "code",
   "execution_count": 2,
   "metadata": {},
   "outputs": [],
   "source": [
    "df.columns=['UserId','MovieId','Ratings','Timestamp']"
   ]
  },
  {
   "cell_type": "code",
   "execution_count": 3,
   "metadata": {},
   "outputs": [
    {
     "data": {
      "text/html": [
       "<div>\n",
       "<style scoped>\n",
       "    .dataframe tbody tr th:only-of-type {\n",
       "        vertical-align: middle;\n",
       "    }\n",
       "\n",
       "    .dataframe tbody tr th {\n",
       "        vertical-align: top;\n",
       "    }\n",
       "\n",
       "    .dataframe thead th {\n",
       "        text-align: right;\n",
       "    }\n",
       "</style>\n",
       "<table border=\"1\" class=\"dataframe\">\n",
       "  <thead>\n",
       "    <tr style=\"text-align: right;\">\n",
       "      <th></th>\n",
       "      <th>UserId</th>\n",
       "      <th>MovieId</th>\n",
       "      <th>Ratings</th>\n",
       "      <th>Timestamp</th>\n",
       "    </tr>\n",
       "  </thead>\n",
       "  <tbody>\n",
       "    <tr>\n",
       "      <td>0</td>\n",
       "      <td>1</td>\n",
       "      <td>1193</td>\n",
       "      <td>5</td>\n",
       "      <td>978300760</td>\n",
       "    </tr>\n",
       "    <tr>\n",
       "      <td>1</td>\n",
       "      <td>1</td>\n",
       "      <td>661</td>\n",
       "      <td>3</td>\n",
       "      <td>978302109</td>\n",
       "    </tr>\n",
       "    <tr>\n",
       "      <td>2</td>\n",
       "      <td>1</td>\n",
       "      <td>914</td>\n",
       "      <td>3</td>\n",
       "      <td>978301968</td>\n",
       "    </tr>\n",
       "    <tr>\n",
       "      <td>3</td>\n",
       "      <td>1</td>\n",
       "      <td>3408</td>\n",
       "      <td>4</td>\n",
       "      <td>978300275</td>\n",
       "    </tr>\n",
       "    <tr>\n",
       "      <td>4</td>\n",
       "      <td>1</td>\n",
       "      <td>2355</td>\n",
       "      <td>5</td>\n",
       "      <td>978824291</td>\n",
       "    </tr>\n",
       "    <tr>\n",
       "      <td>...</td>\n",
       "      <td>...</td>\n",
       "      <td>...</td>\n",
       "      <td>...</td>\n",
       "      <td>...</td>\n",
       "    </tr>\n",
       "    <tr>\n",
       "      <td>1000204</td>\n",
       "      <td>6040</td>\n",
       "      <td>1091</td>\n",
       "      <td>1</td>\n",
       "      <td>956716541</td>\n",
       "    </tr>\n",
       "    <tr>\n",
       "      <td>1000205</td>\n",
       "      <td>6040</td>\n",
       "      <td>1094</td>\n",
       "      <td>5</td>\n",
       "      <td>956704887</td>\n",
       "    </tr>\n",
       "    <tr>\n",
       "      <td>1000206</td>\n",
       "      <td>6040</td>\n",
       "      <td>562</td>\n",
       "      <td>5</td>\n",
       "      <td>956704746</td>\n",
       "    </tr>\n",
       "    <tr>\n",
       "      <td>1000207</td>\n",
       "      <td>6040</td>\n",
       "      <td>1096</td>\n",
       "      <td>4</td>\n",
       "      <td>956715648</td>\n",
       "    </tr>\n",
       "    <tr>\n",
       "      <td>1000208</td>\n",
       "      <td>6040</td>\n",
       "      <td>1097</td>\n",
       "      <td>4</td>\n",
       "      <td>956715569</td>\n",
       "    </tr>\n",
       "  </tbody>\n",
       "</table>\n",
       "<p>1000209 rows × 4 columns</p>\n",
       "</div>"
      ],
      "text/plain": [
       "         UserId  MovieId  Ratings  Timestamp\n",
       "0             1     1193        5  978300760\n",
       "1             1      661        3  978302109\n",
       "2             1      914        3  978301968\n",
       "3             1     3408        4  978300275\n",
       "4             1     2355        5  978824291\n",
       "...         ...      ...      ...        ...\n",
       "1000204    6040     1091        1  956716541\n",
       "1000205    6040     1094        5  956704887\n",
       "1000206    6040      562        5  956704746\n",
       "1000207    6040     1096        4  956715648\n",
       "1000208    6040     1097        4  956715569\n",
       "\n",
       "[1000209 rows x 4 columns]"
      ]
     },
     "execution_count": 3,
     "metadata": {},
     "output_type": "execute_result"
    }
   ],
   "source": [
    "df"
   ]
  },
  {
   "cell_type": "code",
   "execution_count": 4,
   "metadata": {},
   "outputs": [],
   "source": [
    "#Reading the movies dataset\n",
    "df2=pd.read_excel('movies1M.xlsx', index_col=None, header = None)"
   ]
  },
  {
   "cell_type": "code",
   "execution_count": 5,
   "metadata": {},
   "outputs": [
    {
     "data": {
      "text/html": [
       "<div>\n",
       "<style scoped>\n",
       "    .dataframe tbody tr th:only-of-type {\n",
       "        vertical-align: middle;\n",
       "    }\n",
       "\n",
       "    .dataframe tbody tr th {\n",
       "        vertical-align: top;\n",
       "    }\n",
       "\n",
       "    .dataframe thead th {\n",
       "        text-align: right;\n",
       "    }\n",
       "</style>\n",
       "<table border=\"1\" class=\"dataframe\">\n",
       "  <thead>\n",
       "    <tr style=\"text-align: right;\">\n",
       "      <th></th>\n",
       "      <th>MovieId</th>\n",
       "      <th>Name</th>\n",
       "      <th>Genre</th>\n",
       "    </tr>\n",
       "  </thead>\n",
       "  <tbody>\n",
       "    <tr>\n",
       "      <td>0</td>\n",
       "      <td>1</td>\n",
       "      <td>Toy Story (1995)</td>\n",
       "      <td>Animation|Children's|Comedy</td>\n",
       "    </tr>\n",
       "    <tr>\n",
       "      <td>1</td>\n",
       "      <td>2</td>\n",
       "      <td>Jumanji (1995)</td>\n",
       "      <td>Adventure|Children's|Fantasy</td>\n",
       "    </tr>\n",
       "    <tr>\n",
       "      <td>2</td>\n",
       "      <td>3</td>\n",
       "      <td>Grumpier Old Men (1995)</td>\n",
       "      <td>Comedy|Romance</td>\n",
       "    </tr>\n",
       "    <tr>\n",
       "      <td>3</td>\n",
       "      <td>4</td>\n",
       "      <td>Waiting to Exhale (1995)</td>\n",
       "      <td>Comedy|Drama</td>\n",
       "    </tr>\n",
       "    <tr>\n",
       "      <td>4</td>\n",
       "      <td>5</td>\n",
       "      <td>Father of the Bride Part II (1995)</td>\n",
       "      <td>Comedy</td>\n",
       "    </tr>\n",
       "    <tr>\n",
       "      <td>...</td>\n",
       "      <td>...</td>\n",
       "      <td>...</td>\n",
       "      <td>...</td>\n",
       "    </tr>\n",
       "    <tr>\n",
       "      <td>3878</td>\n",
       "      <td>3948</td>\n",
       "      <td>Meet the Parents (2000)</td>\n",
       "      <td>Comedy</td>\n",
       "    </tr>\n",
       "    <tr>\n",
       "      <td>3879</td>\n",
       "      <td>3949</td>\n",
       "      <td>Requiem for a Dream (2000)</td>\n",
       "      <td>Drama</td>\n",
       "    </tr>\n",
       "    <tr>\n",
       "      <td>3880</td>\n",
       "      <td>3950</td>\n",
       "      <td>Tigerland (2000)</td>\n",
       "      <td>Drama</td>\n",
       "    </tr>\n",
       "    <tr>\n",
       "      <td>3881</td>\n",
       "      <td>3951</td>\n",
       "      <td>Two Family House (2000)</td>\n",
       "      <td>Drama</td>\n",
       "    </tr>\n",
       "    <tr>\n",
       "      <td>3882</td>\n",
       "      <td>3952</td>\n",
       "      <td>Contender, The (2000)</td>\n",
       "      <td>Drama|Thriller</td>\n",
       "    </tr>\n",
       "  </tbody>\n",
       "</table>\n",
       "<p>3883 rows × 3 columns</p>\n",
       "</div>"
      ],
      "text/plain": [
       "      MovieId                                Name  \\\n",
       "0           1                    Toy Story (1995)   \n",
       "1           2                      Jumanji (1995)   \n",
       "2           3             Grumpier Old Men (1995)   \n",
       "3           4            Waiting to Exhale (1995)   \n",
       "4           5  Father of the Bride Part II (1995)   \n",
       "...       ...                                 ...   \n",
       "3878     3948             Meet the Parents (2000)   \n",
       "3879     3949          Requiem for a Dream (2000)   \n",
       "3880     3950                    Tigerland (2000)   \n",
       "3881     3951             Two Family House (2000)   \n",
       "3882     3952               Contender, The (2000)   \n",
       "\n",
       "                             Genre  \n",
       "0      Animation|Children's|Comedy  \n",
       "1     Adventure|Children's|Fantasy  \n",
       "2                   Comedy|Romance  \n",
       "3                     Comedy|Drama  \n",
       "4                           Comedy  \n",
       "...                            ...  \n",
       "3878                        Comedy  \n",
       "3879                         Drama  \n",
       "3880                         Drama  \n",
       "3881                         Drama  \n",
       "3882                Drama|Thriller  \n",
       "\n",
       "[3883 rows x 3 columns]"
      ]
     },
     "execution_count": 5,
     "metadata": {},
     "output_type": "execute_result"
    }
   ],
   "source": [
    "df2.columns=['MovieId','Name','Genre']\n",
    "df2"
   ]
  },
  {
   "cell_type": "code",
   "execution_count": 6,
   "metadata": {},
   "outputs": [
    {
     "data": {
      "text/plain": [
       "array([[        1,      1193,         5, 978300760],\n",
       "       [        1,       661,         3, 978302109],\n",
       "       [        1,       914,         3, 978301968],\n",
       "       ...,\n",
       "       [     6040,       562,         5, 956704746],\n",
       "       [     6040,      1096,         4, 956715648],\n",
       "       [     6040,      1097,         4, 956715569]], dtype=int64)"
      ]
     },
     "execution_count": 6,
     "metadata": {},
     "output_type": "execute_result"
    }
   ],
   "source": [
    "r_arr=df.values\n",
    "r_arr"
   ]
  },
  {
   "cell_type": "code",
   "execution_count": 7,
   "metadata": {},
   "outputs": [
    {
     "data": {
      "text/plain": [
       "3952"
      ]
     },
     "execution_count": 7,
     "metadata": {},
     "output_type": "execute_result"
    }
   ],
   "source": [
    "n_users=df['UserId'].max()\n",
    "n_items=df['MovieId'].max()\n",
    "n_items"
   ]
  },
  {
   "cell_type": "code",
   "execution_count": 8,
   "metadata": {},
   "outputs": [],
   "source": [
    "#Creating a matrix to store the ratings,with userid and movieid as row-number and column-number respectively:\n",
    "\n",
    "r=np.zeros((n_users+1,n_items+1))\n",
    "for i in range(n_users+1):\n",
    "    if (i==0):\n",
    "        r[i]=np.zeros(n_items+1)\n",
    "    else:\n",
    "        label=df[df['UserId']==i].index.tolist() \n",
    "        m=np.zeros(len(label))\n",
    "        m=r_arr[int(label[0]):int(label[len(label)-1])+1,1]\n",
    "        r_list=np.zeros(len(label))\n",
    "        rlist=r_arr[int(label[0]):int(label[len(label)-1])+1,2]\n",
    "        for k in range (len(label)):\n",
    "            r[i][int(m[k])]=rlist[k]"
   ]
  },
  {
   "cell_type": "code",
   "execution_count": 9,
   "metadata": {},
   "outputs": [
    {
     "data": {
      "text/plain": [
       "array([[5., 0., 0., ..., 0., 0., 0.],\n",
       "       [0., 0., 0., ..., 0., 0., 0.],\n",
       "       [0., 0., 0., ..., 0., 0., 0.],\n",
       "       ...,\n",
       "       [0., 0., 0., ..., 0., 0., 0.],\n",
       "       [0., 0., 0., ..., 0., 0., 0.],\n",
       "       [3., 0., 0., ..., 0., 0., 0.]])"
      ]
     },
     "execution_count": 9,
     "metadata": {},
     "output_type": "execute_result"
    }
   ],
   "source": [
    "R = np.delete(r, (0), axis=0)\n",
    "R = np.delete(R, (0), axis=1)\n",
    "R"
   ]
  },
  {
   "cell_type": "code",
   "execution_count": 10,
   "metadata": {},
   "outputs": [
    {
     "data": {
      "text/plain": [
       "(6040, 3952)"
      ]
     },
     "execution_count": 10,
     "metadata": {},
     "output_type": "execute_result"
    }
   ],
   "source": [
    "R.shape"
   ]
  },
  {
   "cell_type": "code",
   "execution_count": 11,
   "metadata": {},
   "outputs": [
    {
     "data": {
      "text/plain": [
       "1.0"
      ]
     },
     "execution_count": 11,
     "metadata": {},
     "output_type": "execute_result"
    }
   ],
   "source": [
    "R[6036-1][62-1]"
   ]
  },
  {
   "cell_type": "code",
   "execution_count": 13,
   "metadata": {},
   "outputs": [
    {
     "data": {
      "text/html": [
       "<div>\n",
       "<style scoped>\n",
       "    .dataframe tbody tr th:only-of-type {\n",
       "        vertical-align: middle;\n",
       "    }\n",
       "\n",
       "    .dataframe tbody tr th {\n",
       "        vertical-align: top;\n",
       "    }\n",
       "\n",
       "    .dataframe thead th {\n",
       "        text-align: right;\n",
       "    }\n",
       "</style>\n",
       "<table border=\"1\" class=\"dataframe\">\n",
       "  <thead>\n",
       "    <tr style=\"text-align: right;\">\n",
       "      <th></th>\n",
       "      <th>UserId</th>\n",
       "      <th>MovieId</th>\n",
       "      <th>Ratings</th>\n",
       "      <th>Timestamp</th>\n",
       "    </tr>\n",
       "  </thead>\n",
       "  <tbody>\n",
       "    <tr>\n",
       "      <td>898154</td>\n",
       "      <td>5431</td>\n",
       "      <td>2424</td>\n",
       "      <td>4</td>\n",
       "      <td>960069574</td>\n",
       "    </tr>\n",
       "    <tr>\n",
       "      <td>646850</td>\n",
       "      <td>3892</td>\n",
       "      <td>3593</td>\n",
       "      <td>1</td>\n",
       "      <td>965799070</td>\n",
       "    </tr>\n",
       "    <tr>\n",
       "      <td>332414</td>\n",
       "      <td>1961</td>\n",
       "      <td>3911</td>\n",
       "      <td>4</td>\n",
       "      <td>974686640</td>\n",
       "    </tr>\n",
       "    <tr>\n",
       "      <td>211025</td>\n",
       "      <td>1285</td>\n",
       "      <td>1376</td>\n",
       "      <td>5</td>\n",
       "      <td>975458074</td>\n",
       "    </tr>\n",
       "    <tr>\n",
       "      <td>420313</td>\n",
       "      <td>2540</td>\n",
       "      <td>368</td>\n",
       "      <td>4</td>\n",
       "      <td>974047469</td>\n",
       "    </tr>\n",
       "    <tr>\n",
       "      <td>...</td>\n",
       "      <td>...</td>\n",
       "      <td>...</td>\n",
       "      <td>...</td>\n",
       "      <td>...</td>\n",
       "    </tr>\n",
       "    <tr>\n",
       "      <td>884690</td>\n",
       "      <td>5343</td>\n",
       "      <td>1197</td>\n",
       "      <td>4</td>\n",
       "      <td>960681931</td>\n",
       "    </tr>\n",
       "    <tr>\n",
       "      <td>741821</td>\n",
       "      <td>4433</td>\n",
       "      <td>950</td>\n",
       "      <td>4</td>\n",
       "      <td>965099075</td>\n",
       "    </tr>\n",
       "    <tr>\n",
       "      <td>332472</td>\n",
       "      <td>1962</td>\n",
       "      <td>2265</td>\n",
       "      <td>3</td>\n",
       "      <td>975363743</td>\n",
       "    </tr>\n",
       "    <tr>\n",
       "      <td>415702</td>\n",
       "      <td>2504</td>\n",
       "      <td>1682</td>\n",
       "      <td>5</td>\n",
       "      <td>974084896</td>\n",
       "    </tr>\n",
       "    <tr>\n",
       "      <td>574895</td>\n",
       "      <td>3518</td>\n",
       "      <td>11</td>\n",
       "      <td>4</td>\n",
       "      <td>986846470</td>\n",
       "    </tr>\n",
       "  </tbody>\n",
       "</table>\n",
       "<p>950198 rows × 4 columns</p>\n",
       "</div>"
      ],
      "text/plain": [
       "        UserId  MovieId  Ratings  Timestamp\n",
       "898154    5431     2424        4  960069574\n",
       "646850    3892     3593        1  965799070\n",
       "332414    1961     3911        4  974686640\n",
       "211025    1285     1376        5  975458074\n",
       "420313    2540      368        4  974047469\n",
       "...        ...      ...      ...        ...\n",
       "884690    5343     1197        4  960681931\n",
       "741821    4433      950        4  965099075\n",
       "332472    1962     2265        3  975363743\n",
       "415702    2504     1682        5  974084896\n",
       "574895    3518       11        4  986846470\n",
       "\n",
       "[950198 rows x 4 columns]"
      ]
     },
     "execution_count": 13,
     "metadata": {},
     "output_type": "execute_result"
    }
   ],
   "source": [
    "#creating a training set with 95% of given datas:\n",
    "\n",
    "import random\n",
    "a=r_arr.shape[0]\n",
    "b=0.95*a\n",
    "x=random.sample(range(0, int(a)),int(b))\n",
    "dftrain=df.iloc[x]\n",
    "dftrain"
   ]
  },
  {
   "cell_type": "code",
   "execution_count": 14,
   "metadata": {},
   "outputs": [],
   "source": [
    "dftrain\n",
    "dftrain=dftrain.sort_values(by=['UserId','MovieId'])\n",
    "dftrain\n",
    "dftrain = dftrain.reset_index(drop=True)"
   ]
  },
  {
   "cell_type": "code",
   "execution_count": 15,
   "metadata": {},
   "outputs": [
    {
     "data": {
      "text/html": [
       "<div>\n",
       "<style scoped>\n",
       "    .dataframe tbody tr th:only-of-type {\n",
       "        vertical-align: middle;\n",
       "    }\n",
       "\n",
       "    .dataframe tbody tr th {\n",
       "        vertical-align: top;\n",
       "    }\n",
       "\n",
       "    .dataframe thead th {\n",
       "        text-align: right;\n",
       "    }\n",
       "</style>\n",
       "<table border=\"1\" class=\"dataframe\">\n",
       "  <thead>\n",
       "    <tr style=\"text-align: right;\">\n",
       "      <th></th>\n",
       "      <th>UserId</th>\n",
       "      <th>MovieId</th>\n",
       "      <th>Ratings</th>\n",
       "      <th>Timestamp</th>\n",
       "    </tr>\n",
       "  </thead>\n",
       "  <tbody>\n",
       "    <tr>\n",
       "      <td>0</td>\n",
       "      <td>1</td>\n",
       "      <td>1</td>\n",
       "      <td>5</td>\n",
       "      <td>978824268</td>\n",
       "    </tr>\n",
       "    <tr>\n",
       "      <td>1</td>\n",
       "      <td>1</td>\n",
       "      <td>48</td>\n",
       "      <td>5</td>\n",
       "      <td>978824351</td>\n",
       "    </tr>\n",
       "    <tr>\n",
       "      <td>2</td>\n",
       "      <td>1</td>\n",
       "      <td>150</td>\n",
       "      <td>5</td>\n",
       "      <td>978301777</td>\n",
       "    </tr>\n",
       "    <tr>\n",
       "      <td>3</td>\n",
       "      <td>1</td>\n",
       "      <td>260</td>\n",
       "      <td>4</td>\n",
       "      <td>978300760</td>\n",
       "    </tr>\n",
       "    <tr>\n",
       "      <td>4</td>\n",
       "      <td>1</td>\n",
       "      <td>527</td>\n",
       "      <td>5</td>\n",
       "      <td>978824195</td>\n",
       "    </tr>\n",
       "    <tr>\n",
       "      <td>...</td>\n",
       "      <td>...</td>\n",
       "      <td>...</td>\n",
       "      <td>...</td>\n",
       "      <td>...</td>\n",
       "    </tr>\n",
       "    <tr>\n",
       "      <td>950193</td>\n",
       "      <td>6040</td>\n",
       "      <td>3683</td>\n",
       "      <td>4</td>\n",
       "      <td>960971696</td>\n",
       "    </tr>\n",
       "    <tr>\n",
       "      <td>950194</td>\n",
       "      <td>6040</td>\n",
       "      <td>3703</td>\n",
       "      <td>4</td>\n",
       "      <td>964828575</td>\n",
       "    </tr>\n",
       "    <tr>\n",
       "      <td>950195</td>\n",
       "      <td>6040</td>\n",
       "      <td>3735</td>\n",
       "      <td>4</td>\n",
       "      <td>960971654</td>\n",
       "    </tr>\n",
       "    <tr>\n",
       "      <td>950196</td>\n",
       "      <td>6040</td>\n",
       "      <td>3751</td>\n",
       "      <td>4</td>\n",
       "      <td>964828782</td>\n",
       "    </tr>\n",
       "    <tr>\n",
       "      <td>950197</td>\n",
       "      <td>6040</td>\n",
       "      <td>3819</td>\n",
       "      <td>5</td>\n",
       "      <td>963272166</td>\n",
       "    </tr>\n",
       "  </tbody>\n",
       "</table>\n",
       "<p>950198 rows × 4 columns</p>\n",
       "</div>"
      ],
      "text/plain": [
       "        UserId  MovieId  Ratings  Timestamp\n",
       "0            1        1        5  978824268\n",
       "1            1       48        5  978824351\n",
       "2            1      150        5  978301777\n",
       "3            1      260        4  978300760\n",
       "4            1      527        5  978824195\n",
       "...        ...      ...      ...        ...\n",
       "950193    6040     3683        4  960971696\n",
       "950194    6040     3703        4  964828575\n",
       "950195    6040     3735        4  960971654\n",
       "950196    6040     3751        4  964828782\n",
       "950197    6040     3819        5  963272166\n",
       "\n",
       "[950198 rows x 4 columns]"
      ]
     },
     "execution_count": 15,
     "metadata": {},
     "output_type": "execute_result"
    }
   ],
   "source": [
    "dftrain"
   ]
  },
  {
   "cell_type": "code",
   "execution_count": 16,
   "metadata": {},
   "outputs": [],
   "source": [
    "#creating test set:\n",
    "dftest = df[~df.index.isin(dftrain.index)]"
   ]
  },
  {
   "cell_type": "code",
   "execution_count": 17,
   "metadata": {},
   "outputs": [
    {
     "data": {
      "text/plain": [
       "array([[        1,         1,         5, 978824268],\n",
       "       [        1,        48,         5, 978824351],\n",
       "       [        1,       150,         5, 978301777],\n",
       "       ...,\n",
       "       [     6040,      3735,         4, 960971654],\n",
       "       [     6040,      3751,         4, 964828782],\n",
       "       [     6040,      3819,         5, 963272166]], dtype=int64)"
      ]
     },
     "execution_count": 17,
     "metadata": {},
     "output_type": "execute_result"
    }
   ],
   "source": [
    "r_arrtrain=dftrain.values\n",
    "r_arrtrain"
   ]
  },
  {
   "cell_type": "code",
   "execution_count": 18,
   "metadata": {},
   "outputs": [],
   "source": [
    "#creating rating matrix for training dataset\n",
    "\n",
    "rtrain=np.zeros((n_users+1,n_items+1))\n",
    "i=0\n",
    "for i in range(n_users+1):\n",
    "    if (i==0):\n",
    "        rtrain[i]=np.zeros(n_items+1)\n",
    "    else:\n",
    "        label=dftrain[dftrain['UserId']==i].index.tolist() \n",
    "        m=np.zeros(len(label))\n",
    "        m=r_arrtrain[int(label[0]):int(label[len(label)-1])+1,1]\n",
    "        r_list=r_arrtrain[int(label[0]):int(label[len(label)-1])+1,2]\n",
    "        k=0\n",
    "        for k in range (len(label)):\n",
    "            rtrain[i][int(m[k])]=r_list[k]"
   ]
  },
  {
   "cell_type": "markdown",
   "metadata": {},
   "source": [
    "Rtrain = np.delete(rtrain, (0), axis=0)\n",
    "Rtrain = np.delete(Rtrain, (0), axis=1)\n",
    "Rtrain"
   ]
  },
  {
   "cell_type": "markdown",
   "metadata": {},
   "source": [
    "# Probabilistic Matrix Factorization"
   ]
  },
  {
   "cell_type": "code",
   "execution_count": 88,
   "metadata": {},
   "outputs": [],
   "source": [
    "class MF():\n",
    "    \n",
    "    def __init__(self,R,K, alpha,beta, iterations):\n",
    "        self.R = R\n",
    "        self.num_users, self.num_items = R.shape\n",
    "        self.K = K\n",
    "        self.alpha = alpha\n",
    "        self.beta = beta\n",
    "        self.iterations = iterations\n",
    "    \n",
    "    #function to train model\n",
    "    def train(self):\n",
    "        self.P = np.random.normal(scale=1./self.K, size=(self.num_users, self.K))\n",
    "        self.Q = np.random.normal(scale=1./self.K, size=(self.num_items,self.K))\n",
    "    \n",
    "        self.b_u = np.zeros(self.num_users)\n",
    "        self.b_i = np.zeros(self.num_items)\n",
    "        self.b = np.mean(self.R[np.where(self.R != 0)])\n",
    "        \n",
    "        self.samples = [\n",
    "            (i, j, self.R[i, j])\n",
    "            for i in range(self.num_users)\n",
    "            for j in range(self.num_items)\n",
    "            if self.R[i, j] > 0\n",
    "        ]\n",
    "            \n",
    "        training_process = []\n",
    "        for i in range(self.iterations):\n",
    "            np.random.shuffle(self.samples)\n",
    "            self.sgd()\n",
    "            mse = self.mse()\n",
    "            training_process.append((i, mse))\n",
    "            if (i+1) % 10 == 0:\n",
    "                print(\"Iteration: %d ; error = %.4f\" % (i+1, mse))\n",
    "\n",
    "        return training_process   \n",
    "    \n",
    "    #function to find mean square error\n",
    "    def mse(self):\n",
    "        xs, ys = self.R.nonzero()\n",
    "        predicted = self.full_matrix()\n",
    "        error = 0\n",
    "        for x, y in zip(xs, ys):\n",
    "            error += pow(self.R[x, y] - predicted[x, y], 2)\n",
    "        return np.sqrt(error)\n",
    "\n",
    "    #function for stochastic gradient descent\n",
    "    def sgd(self):\n",
    "        for i, j, r in self.samples:\n",
    "            # Computer prediction and error\n",
    "            prediction = self.get_rating(i, j)\n",
    "            e = (r - prediction)\n",
    "\n",
    "            # Update biases\n",
    "            self.b_u[i] += self.alpha * (e - self.beta * self.b_u[i])\n",
    "            self.b_i[j] += self.alpha * (e - self.beta * self.b_i[j])\n",
    "\n",
    "            # Update user and item latent feature matrices\n",
    "            self.P[i, :] += self.alpha * (e * self.Q[j, :] - self.beta * self.P[i,:])\n",
    "            self.Q[j, :] += self.alpha * (e * self.P[i, :] - self.beta * self.Q[j,:])\n",
    "\n",
    "    #matrix to find rating\n",
    "    def get_rating(self, i, j):\n",
    "        prediction = self.b + self.b_u[i] + self.b_i[j] + self.P[i, :].dot(self.Q[j, :].T)\n",
    "        return prediction\n",
    "\n",
    "    #Compute the full matrix using the resultant biases, P and Q\n",
    "    def full_matrix(self):\n",
    "        return self.b + self.b_u[:,np.newaxis] + self.b_i[np.newaxis:,] + self.P.dot(self.Q.T)"
   ]
  },
  {
   "cell_type": "code",
   "execution_count": 21,
   "metadata": {},
   "outputs": [
    {
     "name": "stdout",
     "output_type": "stream",
     "text": [
      "Iteration: 10 ; error = 609.8713\n",
      "Iteration: 20 ; error = 551.2423\n",
      "Iteration: 30 ; error = 534.9277\n",
      "Iteration: 40 ; error = 527.2681\n",
      "Iteration: 50 ; error = 522.4564\n",
      "Iteration: 60 ; error = 519.4959\n",
      "Iteration: 70 ; error = 517.3356\n",
      "Iteration: 80 ; error = 516.0328\n",
      "Iteration: 90 ; error = 514.7400\n",
      "Iteration: 100 ; error = 513.6773\n",
      "Iteration: 110 ; error = 512.3654\n",
      "Iteration: 120 ; error = 511.8324\n",
      "Iteration: 130 ; error = 511.4906\n",
      "Iteration: 140 ; error = 510.7151\n",
      "Iteration: 150 ; error = 510.1540\n",
      "Iteration: 160 ; error = 509.7662\n",
      "Iteration: 170 ; error = 509.7126\n",
      "Iteration: 180 ; error = 509.0185\n",
      "Iteration: 190 ; error = 508.9985\n",
      "Iteration: 200 ; error = 508.7931\n",
      "\n"
     ]
    }
   ],
   "source": [
    "#Applying MF on training set only\n",
    "mf = MF(Rtrain, K=50,alpha=0.02, beta=0.01, iterations=200)\n",
    "training_process = mf.train()\n",
    "print()"
   ]
  },
  {
   "cell_type": "code",
   "execution_count": 89,
   "metadata": {},
   "outputs": [
    {
     "name": "stdout",
     "output_type": "stream",
     "text": [
      "P x Q:\n",
      "[[4.79425831 3.71380327 2.79287129 ... 4.15019536 4.0578095  2.82194846]\n",
      " [3.90352373 4.02065112 5.23002061 ... 3.56841689 3.97569406 2.91183719]\n",
      " [3.61487969 2.75989549 3.58177847 ... 3.72348453 2.46383544 3.8712152 ]\n",
      " ...\n",
      " [3.75664147 3.41517495 2.17766288 ... 2.94538094 4.72023318 3.98411512]\n",
      " [4.32965434 2.4195541  3.6938391  ... 4.66832631 4.74494821 4.87579148]\n",
      " [3.6505942  2.13892094 1.35764123 ... 2.89962398 3.92623729 3.93062887]]\n",
      "\n",
      "Global bias:\n",
      "3.581564453029317\n",
      "\n",
      "User bias:\n",
      "[-0.06553905 -0.20936973  0.14989713 ... -0.09546073  0.06700773\n",
      " -0.41361855]\n",
      "\n",
      "Item bias:\n",
      "[ 0.57243566 -0.40164196 -0.47545639 ...  0.20825795  0.02964751\n",
      "  0.19650994]\n"
     ]
    }
   ],
   "source": [
    "pred= mf.full_matrix()\n",
    "print(\"P x Q:\")\n",
    "print(mf.full_matrix())\n",
    "print()\n",
    "print(\"Global bias:\")\n",
    "print(mf.b)\n",
    "print()\n",
    "print(\"User bias:\")\n",
    "print(mf.b_u)\n",
    "print()\n",
    "print(\"Item bias:\")\n",
    "print(mf.b_i)"
   ]
  },
  {
   "cell_type": "code",
   "execution_count": 90,
   "metadata": {},
   "outputs": [],
   "source": [
    "dfest=dftest.sort_values(by=['UserId','MovieId'])\n",
    "dftest = dftest.reset_index(drop=True)\n",
    "r_arrtest=dftest.values\n",
    "nrows=r_arrtest.shape[0]"
   ]
  },
  {
   "cell_type": "code",
   "execution_count": 91,
   "metadata": {},
   "outputs": [
    {
     "data": {
      "text/plain": [
       "0.29268558436444936"
      ]
     },
     "execution_count": 91,
     "metadata": {},
     "output_type": "execute_result"
    }
   ],
   "source": [
    "#finding the cross validation error\n",
    "crossval_error=0\n",
    "for i in range(nrows):\n",
    "    crossval_error=crossval_error + pow(r_arrtest[i][2]-pred[int(r_arrtest[i][0])-1][int(r_arrtest[i][1])-1],2)\n",
    "\n",
    "crossval_error=sqrt(crossval_error)/(nrows)\n",
    "crossval_error"
   ]
  },
  {
   "cell_type": "code",
   "execution_count": 92,
   "metadata": {},
   "outputs": [],
   "source": [
    "import matplotlib\n",
    "import matplotlib.pyplot as plt"
   ]
  },
  {
   "cell_type": "code",
   "execution_count": 93,
   "metadata": {},
   "outputs": [
    {
     "data": {
      "image/png": "[encoded data removed]",
      "text/plain": [
       "<Figure size 1152x288 with 1 Axes>"
      ]
     },
     "metadata": {
      "needs_background": "light"
     },
     "output_type": "display_data"
    }
   ],
   "source": [
    "\n",
    "x = [x for x, y in training_process]\n",
    "y = [y for x, y in training_process]\n",
    "plt.figure(figsize=((16,4)))\n",
    "plt.plot(x, y)\n",
    "plt.xticks(x, x)\n",
    "plt.xlabel(\"Iterations\")\n",
    "plt.ylabel(\"Mean Square Error\")\n",
    "plt.grid(axis=\"y\")"
   ]
  },
  {
   "cell_type": "code",
   "execution_count": 94,
   "metadata": {},
   "outputs": [
    {
     "name": "stdout",
     "output_type": "stream",
     "text": [
      "Iteration: 10 ; error = 629.5380\n",
      "Iteration: 20 ; error = 574.1578\n",
      "Iteration: 30 ; error = 558.6936\n",
      "Iteration: 40 ; error = 551.1076\n",
      "Iteration: 50 ; error = 546.4185\n",
      "Iteration: 60 ; error = 543.7858\n",
      "Iteration: 70 ; error = 541.4972\n",
      "Iteration: 80 ; error = 540.0270\n",
      "Iteration: 90 ; error = 538.6507\n",
      "Iteration: 100 ; error = 537.9872\n",
      "Iteration: 110 ; error = 537.2215\n",
      "Iteration: 120 ; error = 536.3718\n",
      "Iteration: 130 ; error = 535.4024\n",
      "Iteration: 140 ; error = 535.1080\n",
      "Iteration: 150 ; error = 534.5125\n",
      "Iteration: 160 ; error = 534.4606\n",
      "Iteration: 170 ; error = 533.9343\n",
      "Iteration: 180 ; error = 533.9483\n",
      "Iteration: 190 ; error = 532.9537\n",
      "Iteration: 200 ; error = 533.2614\n",
      "\n"
     ]
    }
   ],
   "source": [
    "#Applying MF on full ratings matrix\n",
    "mf = MF(R, K=50,alpha=0.02, beta=0.01, iterations=200)\n",
    "training_process = mf.train()\n",
    "print()\n",
    "predmatrix= mf.full_matrix()\n"
   ]
  },
  {
   "cell_type": "code",
   "execution_count": 95,
   "metadata": {},
   "outputs": [
    {
     "name": "stdout",
     "output_type": "stream",
     "text": [
      "Give UserId and MovieId\n",
      "6040\n",
      "1090\n"
     ]
    }
   ],
   "source": [
    "print('Give UserId and MovieId')\n",
    "UserId=input()\n",
    "MovieId=input()\n"
   ]
  },
  {
   "cell_type": "code",
   "execution_count": 96,
   "metadata": {},
   "outputs": [
    {
     "name": "stdout",
     "output_type": "stream",
     "text": [
      "The estimated rating is: 2.9696597745845272\n"
     ]
    }
   ],
   "source": [
    "rating=predmatrix[int(UserId)-1][int(MovieId)-1]\n",
    "print('The estimated rating is: ' + str(rating))\n"
   ]
  },
  {
   "cell_type": "code",
   "execution_count": 97,
   "metadata": {},
   "outputs": [
    {
     "name": "stdout",
     "output_type": "stream",
     "text": [
      "The top 5 movies rated by user 6040are:\n"
     ]
    },
    {
     "data": {
      "text/html": [
       "<div>\n",
       "<style scoped>\n",
       "    .dataframe tbody tr th:only-of-type {\n",
       "        vertical-align: middle;\n",
       "    }\n",
       "\n",
       "    .dataframe tbody tr th {\n",
       "        vertical-align: top;\n",
       "    }\n",
       "\n",
       "    .dataframe thead th {\n",
       "        text-align: right;\n",
       "    }\n",
       "</style>\n",
       "<table border=\"1\" class=\"dataframe\">\n",
       "  <thead>\n",
       "    <tr style=\"text-align: right;\">\n",
       "      <th></th>\n",
       "      <th>Movie Name</th>\n",
       "      <th>Genre</th>\n",
       "    </tr>\n",
       "  </thead>\n",
       "  <tbody>\n",
       "    <tr>\n",
       "      <td>0</td>\n",
       "      <td>Ghost Dog:The Way of the Samurai</td>\n",
       "      <td>Crime|Drama</td>\n",
       "    </tr>\n",
       "    <tr>\n",
       "      <td>1</td>\n",
       "      <td>Yojimbo (1961)</td>\n",
       "      <td>Comedy|Drama|Western</td>\n",
       "    </tr>\n",
       "    <tr>\n",
       "      <td>2</td>\n",
       "      <td>Pather Panchali (1955)</td>\n",
       "      <td>Drama</td>\n",
       "    </tr>\n",
       "    <tr>\n",
       "      <td>3</td>\n",
       "      <td>Bank Dick, The (1940)</td>\n",
       "      <td>Comedy</td>\n",
       "    </tr>\n",
       "    <tr>\n",
       "      <td>4</td>\n",
       "      <td>Education of Little Tree, The (1</td>\n",
       "      <td>Drama</td>\n",
       "    </tr>\n",
       "  </tbody>\n",
       "</table>\n",
       "</div>"
      ],
      "text/plain": [
       "                         Movie Name                 Genre\n",
       "0  Ghost Dog:The Way of the Samurai           Crime|Drama\n",
       "1                    Yojimbo (1961)  Comedy|Drama|Western\n",
       "2            Pather Panchali (1955)                 Drama\n",
       "3             Bank Dick, The (1940)                Comedy\n",
       "4  Education of Little Tree, The (1                 Drama"
      ]
     },
     "execution_count": 97,
     "metadata": {},
     "output_type": "execute_result"
    }
   ],
   "source": [
    "#Finding the top 5 movies for the user:\n",
    "\n",
    "ratedmovies=np.zeros(n_items)\n",
    "ratedmovies=predmatrix[(UserId-1)]\n",
    "alreadyrated=R[int(UserId)-1]\n",
    "non_rated=ratedmovies-alreadyrated\n",
    "top_5_idx = np.argsort(non_rated)[-5:]\n",
    "\n",
    "top_5=top_5_idx + 1\n",
    "top_5= np.fliplr([top_5])[0]\n",
    "Finalmatrix=np.empty((5,2))\n",
    "Finalmatrix=Finalmatrix.astype('str')\n",
    "\n",
    "for i in range (5):\n",
    "    index=df2[df2['MovieId']==top_5[i]].index.values\n",
    "    Finalmatrix[i][0]=df2.iloc[int(index)][1]\n",
    "    Finalmatrix[i][1]=df2.iloc[int(index)][2]\n",
    "\n",
    "Top5movies= pd.DataFrame({'Movie Name': Finalmatrix[:,0], 'Genre' : Finalmatrix[:,1]})\n",
    "print('The top 5 movies rated by user ' + str(UserId) +  'are:')\n",
    "Top5movies"
   ]
  },
  {
   "cell_type": "code",
   "execution_count": null,
   "metadata": {},
   "outputs": [],
   "source": []
  }
 ],
 "metadata": {
  "kernelspec": {
   "display_name": "Python 3",
   "language": "python",
   "name": "python3"
  },
  "language_info": {
   "codemirror_mode": {
    "name": "ipython",
    "version": 3
   },
   "file_extension": ".py",
   "mimetype": "text/x-python",
   "name": "python",
   "nbconvert_exporter": "python",
   "pygments_lexer": "ipython3",
   "version": "3.7.4"
  }
 },
 "nbformat": 4,
 "nbformat_minor": 2
}
